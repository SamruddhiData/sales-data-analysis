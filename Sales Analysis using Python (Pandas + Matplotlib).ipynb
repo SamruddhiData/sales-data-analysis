{
 "cells": [
  {
   "cell_type": "code",
   "execution_count": 1,
   "id": "5263de9d",
   "metadata": {},
   "outputs": [
    {
     "name": "stderr",
     "output_type": "stream",
     "text": [
      "C:\\Users\\Samruddhi Gunjal\\anaconda3\\Lib\\site-packages\\pandas\\core\\arrays\\masked.py:60: UserWarning: Pandas requires version '1.3.6' or newer of 'bottleneck' (version '1.3.5' currently installed).\n",
      "  from pandas.core import (\n"
     ]
    }
   ],
   "source": [
    "import pandas as pd\n",
    "import matplotlib.pyplot as plt\n"
   ]
  },
  {
   "cell_type": "code",
   "execution_count": 5,
   "id": "e402ddfb",
   "metadata": {},
   "outputs": [],
   "source": [
    "df = pd.read_csv('sales_data.csv')"
   ]
  },
  {
   "cell_type": "code",
   "execution_count": 4,
   "id": "562efd2f",
   "metadata": {},
   "outputs": [
    {
     "name": "stdout",
     "output_type": "stream",
     "text": [
      "   Order ID        Date Region     Category Product  Quantity  Unit Price  \\\n",
      "0         1  2024-01-21   East     Clothing   Shirt         8        4272   \n",
      "1         2  2024-03-28   East     Clothing   Jeans         7        4926   \n",
      "2         3  2024-03-28  South  Electronics  Tablet         5        1269   \n",
      "3         4  2024-02-27  South    Furniture   Table         5        1684   \n",
      "4         5  2024-02-28   West    Furniture   Chair         9         974   \n",
      "\n",
      "   Total Sales  \n",
      "0        34176  \n",
      "1        34482  \n",
      "2         6345  \n",
      "3         8420  \n",
      "4         8766  \n"
     ]
    }
   ],
   "source": [
    "print(df.head())"
   ]
  },
  {
   "cell_type": "code",
   "execution_count": 6,
   "id": "8555ce69",
   "metadata": {},
   "outputs": [],
   "source": [
    "df['Date']=pd.to_datetime(df['Date'])"
   ]
  },
  {
   "cell_type": "code",
   "execution_count": 7,
   "id": "793844df",
   "metadata": {},
   "outputs": [
    {
     "data": {
      "text/plain": [
       "Order ID       0\n",
       "Date           0\n",
       "Region         0\n",
       "Category       0\n",
       "Product        0\n",
       "Quantity       0\n",
       "Unit Price     0\n",
       "Total Sales    0\n",
       "dtype: int64"
      ]
     },
     "execution_count": 7,
     "metadata": {},
     "output_type": "execute_result"
    }
   ],
   "source": [
    "df.isnull().sum()"
   ]
  },
  {
   "cell_type": "code",
   "execution_count": 8,
   "id": "2d0abc6f",
   "metadata": {},
   "outputs": [
    {
     "data": {
      "text/html": [
       "<div>\n",
       "<style scoped>\n",
       "    .dataframe tbody tr th:only-of-type {\n",
       "        vertical-align: middle;\n",
       "    }\n",
       "\n",
       "    .dataframe tbody tr th {\n",
       "        vertical-align: top;\n",
       "    }\n",
       "\n",
       "    .dataframe thead th {\n",
       "        text-align: right;\n",
       "    }\n",
       "</style>\n",
       "<table border=\"1\" class=\"dataframe\">\n",
       "  <thead>\n",
       "    <tr style=\"text-align: right;\">\n",
       "      <th></th>\n",
       "      <th>Order ID</th>\n",
       "      <th>Date</th>\n",
       "      <th>Quantity</th>\n",
       "      <th>Unit Price</th>\n",
       "      <th>Total Sales</th>\n",
       "    </tr>\n",
       "  </thead>\n",
       "  <tbody>\n",
       "    <tr>\n",
       "      <th>count</th>\n",
       "      <td>50.00000</td>\n",
       "      <td>50</td>\n",
       "      <td>50.000000</td>\n",
       "      <td>50.000000</td>\n",
       "      <td>50.000000</td>\n",
       "    </tr>\n",
       "    <tr>\n",
       "      <th>mean</th>\n",
       "      <td>25.50000</td>\n",
       "      <td>2024-03-29 14:52:48</td>\n",
       "      <td>5.320000</td>\n",
       "      <td>2875.240000</td>\n",
       "      <td>15631.920000</td>\n",
       "    </tr>\n",
       "    <tr>\n",
       "      <th>min</th>\n",
       "      <td>1.00000</td>\n",
       "      <td>2024-01-01 00:00:00</td>\n",
       "      <td>1.000000</td>\n",
       "      <td>598.000000</td>\n",
       "      <td>2353.000000</td>\n",
       "    </tr>\n",
       "    <tr>\n",
       "      <th>25%</th>\n",
       "      <td>13.25000</td>\n",
       "      <td>2024-02-21 12:00:00</td>\n",
       "      <td>3.000000</td>\n",
       "      <td>1706.750000</td>\n",
       "      <td>5031.000000</td>\n",
       "    </tr>\n",
       "    <tr>\n",
       "      <th>50%</th>\n",
       "      <td>25.50000</td>\n",
       "      <td>2024-04-01 00:00:00</td>\n",
       "      <td>5.000000</td>\n",
       "      <td>3090.000000</td>\n",
       "      <td>10013.000000</td>\n",
       "    </tr>\n",
       "    <tr>\n",
       "      <th>75%</th>\n",
       "      <td>37.75000</td>\n",
       "      <td>2024-05-07 18:00:00</td>\n",
       "      <td>8.000000</td>\n",
       "      <td>4122.500000</td>\n",
       "      <td>26475.000000</td>\n",
       "    </tr>\n",
       "    <tr>\n",
       "      <th>max</th>\n",
       "      <td>50.00000</td>\n",
       "      <td>2024-06-19 00:00:00</td>\n",
       "      <td>9.000000</td>\n",
       "      <td>4988.000000</td>\n",
       "      <td>44217.000000</td>\n",
       "    </tr>\n",
       "    <tr>\n",
       "      <th>std</th>\n",
       "      <td>14.57738</td>\n",
       "      <td>NaN</td>\n",
       "      <td>2.780691</td>\n",
       "      <td>1368.847028</td>\n",
       "      <td>12460.303714</td>\n",
       "    </tr>\n",
       "  </tbody>\n",
       "</table>\n",
       "</div>"
      ],
      "text/plain": [
       "       Order ID                 Date   Quantity   Unit Price   Total Sales\n",
       "count  50.00000                   50  50.000000    50.000000     50.000000\n",
       "mean   25.50000  2024-03-29 14:52:48   5.320000  2875.240000  15631.920000\n",
       "min     1.00000  2024-01-01 00:00:00   1.000000   598.000000   2353.000000\n",
       "25%    13.25000  2024-02-21 12:00:00   3.000000  1706.750000   5031.000000\n",
       "50%    25.50000  2024-04-01 00:00:00   5.000000  3090.000000  10013.000000\n",
       "75%    37.75000  2024-05-07 18:00:00   8.000000  4122.500000  26475.000000\n",
       "max    50.00000  2024-06-19 00:00:00   9.000000  4988.000000  44217.000000\n",
       "std    14.57738                  NaN   2.780691  1368.847028  12460.303714"
      ]
     },
     "execution_count": 8,
     "metadata": {},
     "output_type": "execute_result"
    }
   ],
   "source": [
    "df.describe()"
   ]
  },
  {
   "cell_type": "code",
   "execution_count": 9,
   "id": "737b6c6a",
   "metadata": {},
   "outputs": [
    {
     "name": "stdout",
     "output_type": "stream",
     "text": [
      "\n",
      "Total Sales: ₹781596\n",
      "Total Quantity Sold: 266\n"
     ]
    }
   ],
   "source": [
    "total_sales = df['Total Sales'].sum()\n",
    "total_quantity = df['Quantity'].sum()\n",
    "print(f\"\\nTotal Sales: ₹{total_sales}\")\n",
    "print(f\"Total Quantity Sold: {total_quantity}\")\n"
   ]
  },
  {
   "cell_type": "code",
   "execution_count": 10,
   "id": "80b19289",
   "metadata": {},
   "outputs": [
    {
     "name": "stdout",
     "output_type": "stream",
     "text": [
      "\n",
      "Sales by Region:\n",
      "Region\n",
      "East     171285\n",
      "North    123358\n",
      "South    209172\n",
      "West     277781\n",
      "Name: Total Sales, dtype: int64\n"
     ]
    }
   ],
   "source": [
    "region_sales = df.groupby('Region')['Total Sales'].sum()\n",
    "print(\"\\nSales by Region:\")\n",
    "print(region_sales)"
   ]
  },
  {
   "cell_type": "code",
   "execution_count": 11,
   "id": "1b821080",
   "metadata": {},
   "outputs": [
    {
     "name": "stdout",
     "output_type": "stream",
     "text": [
      "\n",
      "Sales by Category:\n",
      "Category\n",
      "Clothing       340531\n",
      "Electronics    254125\n",
      "Furniture      186940\n",
      "Name: Total Sales, dtype: int64\n"
     ]
    }
   ],
   "source": [
    "category_sales = df.groupby('Category')['Total Sales'].sum()\n",
    "print(\"\\nSales by Category:\")\n",
    "print(category_sales)\n"
   ]
  },
  {
   "cell_type": "code",
   "execution_count": 12,
   "id": "92fb546d",
   "metadata": {},
   "outputs": [
    {
     "data": {
      "image/png": "[encoded data removed]",
      "text/plain": [
       "<Figure size 640x480 with 1 Axes>"
      ]
     },
     "metadata": {},
     "output_type": "display_data"
    }
   ],
   "source": [
    "region_sales.plot(kind='bar', color='skyblue', title='Sales by Region')\n",
    "plt.ylabel(\"Total Sales\")\n",
    "plt.xlabel(\"Region\")\n",
    "plt.tight_layout()\n",
    "plt.show()"
   ]
  },
  {
   "cell_type": "code",
   "execution_count": 13,
   "id": "9d8ea5d8",
   "metadata": {},
   "outputs": [
    {
     "data": {
      "image/png": "[encoded data removed]",
      "text/plain": [
       "<Figure size 640x480 with 1 Axes>"
      ]
     },
     "metadata": {},
     "output_type": "display_data"
    }
   ],
   "source": [
    "category_sales.plot(kind='pie', autopct='%1.1f%%', title='Sales by Category')\n",
    "plt.ylabel(\"\")\n",
    "plt.tight_layout()\n",
    "plt.show()\n"
   ]
  },
  {
   "cell_type": "code",
   "execution_count": null,
   "id": "01902f94",
   "metadata": {},
   "outputs": [],
   "source": []
  }
 ],
 "metadata": {
  "kernelspec": {
   "display_name": "Python 3 (ipykernel)",
   "language": "python",
   "name": "python3"
  },
  "language_info": {
   "codemirror_mode": {
    "name": "ipython",
    "version": 3
   },
   "file_extension": ".py",
   "mimetype": "text/x-python",
   "name": "python",
   "nbconvert_exporter": "python",
   "pygments_lexer": "ipython3",
   "version": "3.11.5"
  }
 },
 "nbformat": 4,
 "nbformat_minor": 5
}
